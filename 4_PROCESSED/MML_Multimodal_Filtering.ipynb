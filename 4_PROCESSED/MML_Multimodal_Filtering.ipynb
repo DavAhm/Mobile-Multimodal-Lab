{
 "cells": [
  {
   "cell_type": "markdown",
   "id": "60d9310d",
   "metadata": {},
   "source": [
    "## MML: Multimodal Data Cleaning \n",
    "\n",
    "This script will process and filter all the modalities \n",
    "- Audio: from raw (denoised) to pitch \n",
    "- ECG: filtered signal with bandpass and notch filer \n",
    "- EMG1 EMG 2: filtered with \n",
    "- RESP: filtered wit"
   ]
  },
  {
   "cell_type": "markdown",
   "id": "1d95d08e",
   "metadata": {},
   "source": [
    "### 0. Import all necessary packages\n"
   ]
  },
  {
   "cell_type": "code",
   "execution_count": null,
   "id": "0f03fce8",
   "metadata": {},
   "outputs": [],
   "source": [
    "import os\n",
    "from os import listdir\n",
    "import numpy as np\n",
    "import csv #csv saving\n",
    "import pandas as pd\n",
    "import math #basic operations\n",
    "import matplotlib.pyplot as plt\n",
    "from scipy.signal import butter, filtfilt, iirnotch\n",
    "import glob\n",
    "import matplotlib.pyplot as plt\n",
    "import tkinter # GUI toolkit to open and save files\n",
    "from tkinter import filedialog, messagebox  # GUI toolkit to open and save files\n",
    "from scipy.signal import butter, filtfilt, iirnotch\n",
    "import librosa\n",
    "import librosa.display\n",
    "import tempfile\n",
    "import shutil\n",
    "import tqdm\n",
    "from scipy.ndimage import uniform_filter1d\n",
    "\n",
    "\n",
    "print(\"Everything imported successfully\")"
   ]
  },
  {
   "cell_type": "markdown",
   "id": "672bf9a9",
   "metadata": {},
   "source": [
    "#### 1. Defyining key Directories, Variables & Functions\n",
    "\n",
    "\n"
   ]
  }
 ],
 "metadata": {
  "language_info": {
   "name": "python"
  }
 },
 "nbformat": 4,
 "nbformat_minor": 5
}
