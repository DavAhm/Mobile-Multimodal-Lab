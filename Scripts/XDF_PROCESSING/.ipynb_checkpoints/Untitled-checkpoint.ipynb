{
 "cells": [
  {
   "cell_type": "markdown",
   "id": "b2f4587d",
   "metadata": {},
   "source": [
    "# Donders multimodallab: XDF processing\n",
    "- here we are going to explain the hell out of what we are doing\n"
   ]
  },
  {
   "cell_type": "markdown",
   "id": "8ceca857",
   "metadata": {},
   "source": [
    "Next we are loading up the packages that we need. Sxxx"
   ]
  },
  {
   "cell_type": "code",
   "execution_count": 6,
   "id": "8f88e2cd",
   "metadata": {},
   "outputs": [],
   "source": [
    "import os\n",
    "import pyxdf\n",
    "import glob\n",
    "import pandas as pd\n",
    "import numpy as np\n",
    "import wave, struct, math, random\n",
    "from scipy.io import wavfile\n",
    "import noisereduce as nr\n",
    "import json\n",
    "import cv2\n",
    "from moviepy.video.io.ffmpeg_tools import ffmpeg_extract_subclip #this is the video clipping function\n",
    "from moviepy.video.io.VideoFileClip import VideoFileClip #alternative for snipping video\n",
    "from moviepy.editor import VideoFileClip, AudioFileClip, CompositeAudioClip\n",
    "\n",
    "experiment_to_process = './data_raw/'\n",
    "dataprocessfolder = './data_processed/'\n",
    "noise_reducelevel = 1.5\n",
    "# print(os.path.abspath(experiment_to_process))"
   ]
  },
  {
   "cell_type": "markdown",
   "id": "dac3587c",
   "metadata": {},
   "source": [
    "# identifying the xdf files"
   ]
  },
  {
   "cell_type": "code",
   "execution_count": 7,
   "id": "a9fd9537",
   "metadata": {},
   "outputs": [
    {
     "name": "stdout",
     "output_type": "stream",
     "text": [
      "we have idenified the following xdf files: ['./data_raw/test_dm03.xdf']\n"
     ]
    }
   ],
   "source": [
    "#identify xdf files in data folder or any subfolder\n",
    "xdf_files = []\n",
    "for root, dirs, files in os.walk(experiment_to_process):\n",
    "    for file in files:\n",
    "        if file.endswith(\".xdf\"):\n",
    "             xdf_files.append(os.path.join(root, file))\n",
    "print('we have idenified the following xdf files: ' + str(xdf_files))"
   ]
  },
  {
   "cell_type": "markdown",
   "id": "a55f7a3a",
   "metadata": {},
   "source": [
    "# main functions"
   ]
  },
  {
   "cell_type": "code",
   "execution_count": 8,
   "id": "6408cf74",
   "metadata": {},
   "outputs": [],
   "source": [
    "#function we are using for the writing of xdf numeric waveform\n",
    "def to_audio(fileloc, timeseries, samplerate = 16000, channels = 1):\n",
    "    if timeseriestype == 'Mic': \n",
    "        obj = wave.open(fileloc,'w')\n",
    "        obj.setnchannels(channels) # mono\n",
    "        obj.setsampwidth(2)\n",
    "        obj.setframerate(float(samplerate))\n",
    "        for i in timeseries:\n",
    "            data = struct.pack('<h', int(i[0]))\n",
    "            obj.writeframesraw( data )\n",
    "        obj.close()"
   ]
  },
  {
   "cell_type": "markdown",
   "id": "61a32516",
   "metadata": {},
   "source": [
    "# Main loop that extracts the csv's and sound from the XDF"
   ]
  },
  {
   "cell_type": "code",
   "execution_count": 9,
   "id": "98c8f08c",
   "metadata": {
    "scrolled": true
   },
   "outputs": [
    {
     "name": "stdout",
     "output_type": "stream",
     "text": [
      "working on stream: MyWebcamFrameStream  with a channel count of 1\n",
      " and a sampling rate of 500\n",
      "working on stream: BalanceBoard_stream  with a channel count of 4\n",
      " and a sampling rate of 500\n",
      "working on stream: Mic  with a channel count of 1\n",
      " and a sampling rate of 16000\n"
     ]
    },
    {
     "ename": "NameError",
     "evalue": "name 'noisereducelevel' is not defined",
     "output_type": "error",
     "traceback": [
      "\u001b[1;31m---------------------------------------------------------------------------\u001b[0m",
      "\u001b[1;31mNameError\u001b[0m                                 Traceback (most recent call last)",
      "\u001b[1;32m~\\AppData\\Local\\Temp\\ipykernel_23344\\1891935369.py\u001b[0m in \u001b[0;36m<module>\u001b[1;34m\u001b[0m\n\u001b[0;32m     21\u001b[0m             \u001b[0mrate\u001b[0m\u001b[1;33m,\u001b[0m \u001b[0mdata\u001b[0m \u001b[1;33m=\u001b[0m \u001b[0mwavfile\u001b[0m\u001b[1;33m.\u001b[0m\u001b[0mread\u001b[0m\u001b[1;33m(\u001b[0m\u001b[0mwavloc\u001b[0m\u001b[1;33m)\u001b[0m\u001b[1;33m\u001b[0m\u001b[1;33m\u001b[0m\u001b[0m\n\u001b[0;32m     22\u001b[0m             \u001b[1;31m# perform noise reduction\u001b[0m\u001b[1;33m\u001b[0m\u001b[1;33m\u001b[0m\u001b[0m\n\u001b[1;32m---> 23\u001b[1;33m             \u001b[0mreduced_noise\u001b[0m \u001b[1;33m=\u001b[0m \u001b[0mnr\u001b[0m\u001b[1;33m.\u001b[0m\u001b[0mreduce_noise\u001b[0m\u001b[1;33m(\u001b[0m\u001b[0my\u001b[0m\u001b[1;33m=\u001b[0m\u001b[0mdata\u001b[0m\u001b[1;33m,\u001b[0m \u001b[0msr\u001b[0m\u001b[1;33m=\u001b[0m\u001b[0mrate\u001b[0m\u001b[1;33m,\u001b[0m \u001b[0mn_std_thresh_stationary\u001b[0m\u001b[1;33m=\u001b[0m\u001b[0mnoisereducelevel\u001b[0m\u001b[1;33m,\u001b[0m\u001b[0mstationary\u001b[0m\u001b[1;33m=\u001b[0m\u001b[1;32mTrue\u001b[0m\u001b[1;33m)\u001b[0m\u001b[1;33m\u001b[0m\u001b[1;33m\u001b[0m\u001b[0m\n\u001b[0m\u001b[0;32m     24\u001b[0m             \u001b[0mwavloc2\u001b[0m \u001b[1;33m=\u001b[0m \u001b[0mdataprocessfolder\u001b[0m\u001b[1;33m+\u001b[0m\u001b[0mos\u001b[0m\u001b[1;33m.\u001b[0m\u001b[0mpath\u001b[0m\u001b[1;33m.\u001b[0m\u001b[0mbasename\u001b[0m\u001b[1;33m(\u001b[0m\u001b[0mxdf_file\u001b[0m\u001b[1;33m)\u001b[0m\u001b[1;33m[\u001b[0m\u001b[1;33m:\u001b[0m\u001b[1;33m-\u001b[0m\u001b[1;36m4\u001b[0m\u001b[1;33m]\u001b[0m \u001b[1;33m+\u001b[0m \u001b[1;34m'_denoised.wav'\u001b[0m\u001b[1;33m\u001b[0m\u001b[1;33m\u001b[0m\u001b[0m\n\u001b[0;32m     25\u001b[0m             \u001b[0mwavfile\u001b[0m\u001b[1;33m.\u001b[0m\u001b[0mwrite\u001b[0m\u001b[1;33m(\u001b[0m\u001b[0mwavloc2\u001b[0m\u001b[1;33m,\u001b[0m \u001b[0mrate\u001b[0m\u001b[1;33m,\u001b[0m \u001b[0mreduced_noise\u001b[0m\u001b[1;33m)\u001b[0m\u001b[1;33m\u001b[0m\u001b[1;33m\u001b[0m\u001b[0m\n",
      "\u001b[1;31mNameError\u001b[0m: name 'noisereducelevel' is not defined"
     ]
    }
   ],
   "source": [
    "#loop through xdf files and save the all data\n",
    "for xdf_file in xdf_files:\n",
    "    streams, header = pyxdf.load_xdf(xdf_file)\n",
    "    fnam = os.path.basename(xdf_file)[:-4]\n",
    "    for stream in streams:\n",
    "        timeseriestype = stream['info']['name'][0]\n",
    "        samplerate = round(float(stream['info']['nominal_srate'][0]))\n",
    "        #in the xdf loop over the streams and save it as csv if not yet exists\n",
    "        channelcount = stream['info']['channel_count'][0]\n",
    "        print('working on stream: ' + timeseriestype + '  with a channel count of ' + str(channelcount) +'\\n and a sampling rate of ' + str(samplerate))\n",
    "        timevec = stream['time_stamps']    #LSL TIMESTAMPS!\n",
    "        timeseries = stream['time_series'] # data\n",
    "        matrix_aux = np.vstack([np.transpose(timevec),np.transpose(timeseries)])\n",
    "        matrix     = np.transpose(matrix_aux)\n",
    "        df_lab = pd.DataFrame(matrix)\n",
    "        df_lab.to_csv(dataprocessfolder+fnam+'_'+timeseriestype+'_nominal_srate'+str(samplerate)+'.csv',index=False)\n",
    "        if timeseriestype == 'Mic':\n",
    "            wavloc = dataprocessfolder+fnam+ '.wav'\n",
    "            to_audio(wavloc, timeseries)\n",
    "            # load data\n",
    "            rate, data = wavfile.read(wavloc)\n",
    "            # perform noise reduction\n",
    "            reduced_noise = nr.reduce_noise(y=data, sr=rate, n_std_thresh_stationary=noisereducelevel,stationary=True)\n",
    "            wavloc2 = dataprocessfolder+os.path.basename(xdf_file)[:-4] + '_denoised.wav'\n",
    "            wavfile.write(wavloc2, rate, reduced_noise)\n",
    "            \n",
    "print('done, you can now look into your folder: ' + dataprocessfolder)"
   ]
  },
  {
   "cell_type": "code",
   "execution_count": null,
   "id": "256e1792",
   "metadata": {},
   "outputs": [],
   "source": [
    "# TODO plot some data \n",
    "# use matplotlib or plotly to show a portion of the timeseries of the balanceboard\n"
   ]
  },
  {
   "cell_type": "code",
   "execution_count": null,
   "id": "5bb59e07",
   "metadata": {},
   "outputs": [],
   "source": []
  }
 ],
 "metadata": {
  "kernelspec": {
   "display_name": "Python 3 (ipykernel)",
   "language": "python",
   "name": "python3"
  },
  "language_info": {
   "codemirror_mode": {
    "name": "ipython",
    "version": 3
   },
   "file_extension": ".py",
   "mimetype": "text/x-python",
   "name": "python",
   "nbconvert_exporter": "python",
   "pygments_lexer": "ipython3",
   "version": "3.9.13"
  }
 },
 "nbformat": 4,
 "nbformat_minor": 5
}
