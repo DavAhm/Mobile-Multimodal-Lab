{
 "cells": [
  {
   "cell_type": "code",
   "execution_count": null,
   "id": "d9d32fc4",
   "metadata": {},
   "outputs": [],
   "source": [
    "import os\n",
    "import pyxdf\n",
    "import glob\n",
    "import pandas as pd\n",
    "import numpy as np\n",
    "import wave, struct, math, random\n",
    "from scipy.io import wavfile\n",
    "import noisereduce as nr\n",
    "import json\n",
    "import cv2\n",
    "from moviepy.video.io.ffmpeg_tools import ffmpeg_extract_subclip #this is the video clipping function\n",
    "from moviepy.video.io.VideoFileClip import VideoFileClip #alternative for snipping video\n",
    "from moviepy.editor import VideoFileClip, AudioFileClip, CompositeAudioClip"
   ]
  },
  {
   "cell_type": "code",
   "execution_count": null,
   "id": "1eceada3",
   "metadata": {},
   "outputs": [],
   "source": [
    "#identify xdf files in data folder or any subfolder\n",
    "xdf_files = []\n",
    "for root, dirs, files in os.walk(experiment_to_process):\n",
    "    for file in files:\n",
    "        if file.endswith(\".xdf\"):\n",
    "             xdf_files.append(os.path.join(root, file))\n",
    "\n",
    "#audio write\n",
    "def to_audio(fileloc, timeseries, samplerate = 16000, channels = 1):\n",
    "    if timeseriestype == 'Mic': \n",
    "        obj = wave.open(fileloc,'w')\n",
    "        obj.setnchannels(channels) # mono\n",
    "        obj.setsampwidth(2)\n",
    "        obj.setframerate(float(samplerate))\n",
    "        for i in timeseries:\n",
    "            data = struct.pack('<h', int(i[0]))\n",
    "            obj.writeframesraw( data )\n",
    "        obj.close()"
   ]
  }
 ],
 "metadata": {
  "kernelspec": {
   "display_name": "Python 3 (ipykernel)",
   "language": "python",
   "name": "python3"
  },
  "language_info": {
   "codemirror_mode": {
    "name": "ipython",
    "version": 3
   },
   "file_extension": ".py",
   "mimetype": "text/x-python",
   "name": "python",
   "nbconvert_exporter": "python",
   "pygments_lexer": "ipython3",
   "version": "3.9.13"
  }
 },
 "nbformat": 4,
 "nbformat_minor": 5
}
