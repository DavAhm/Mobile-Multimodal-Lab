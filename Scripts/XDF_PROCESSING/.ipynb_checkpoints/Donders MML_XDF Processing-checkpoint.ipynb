{
 "cells": [
  {
   "cell_type": "markdown",
   "id": "b2f4587d",
   "metadata": {},
   "source": [
    "# Donders MML: XDF processing\n",
    "The script processes all data files sotred in an XDF format. \n",
    "Steps: \n",
    "1. Import libraries necessary for processing audio, video and data files \n",
    "    a. See requirements.txt to conda install all the necessary packages. \n",
    "    \n",
    "2. Identify XDF files within a specified directory or its subdirectories.\n",
    "\n",
    "\n"
   ]
  },
  {
   "cell_type": "markdown",
   "id": "8ceca857",
   "metadata": {},
   "source": [
    "## 0. Import all the necessary packages to work with XDF files "
   ]
  },
  {
   "cell_type": "code",
   "execution_count": 1,
   "id": "8f88e2cd",
   "metadata": {},
   "outputs": [
    {
     "name": "stdout",
     "output_type": "stream",
     "text": [
      "Everything was imported succesfully\n"
     ]
    }
   ],
   "source": [
    "import os  # Importing the os module which provides functions for interacting with the operating system\n",
    "import pyxdf  # Importing pyxdf, a Python library for reading XDF files\n",
    "import glob  # Importing the glob module which helps in finding files/directories with specific patterns\n",
    "import pandas as pd  # Importing pandas library (abbreviated as pd), which is used for data manipulation and analysis\n",
    "import numpy as np  # Importing numpy library (abbreviated as np), which is used for numerical computations\n",
    "import wave  # Importing wave module for reading and writing WAV files (usually audio files) \n",
    "import struct  # Importing struct module which provides functions to convert between Python values and C structs\n",
    "import math  # Importing math module which provides mathematical functions\n",
    "import random  # Importing random module for generating random numbers\n",
    "from scipy.io import wavfile  # Importing wavfile module from scipy.io (a library built on numpy), for reading and writing WAV files\n",
    "import noisereduce as nr  # Importing noisereduce module for noise reduction in audio signals\n",
    "import json  # Importing json module for working with JSON data\n",
    "import cv2  # Importing OpenCV library for computer vision tasks\n",
    "from moviepy.editor import (  # Importing various classes and functions from moviepy.editor module\n",
    "                            VideoFileClip,  # Class for working with video files\n",
    "                            AudioFileClip,  # Class for working with audio files\n",
    "                            CompositeAudioClip)  # Class for composing audio clip\n",
    "\n",
    "print(\"Everything was imported succesfully\") #as terminal"
   ]
  },
  {
   "cell_type": "markdown",
   "id": "bbb71e5f-010b-44c3-8ce2-850514916a35",
   "metadata": {},
   "source": [
    "## 0.1. Define the Relevant Paths and Variables"
   ]
  },
  {
   "cell_type": "code",
   "execution_count": 3,
   "id": "ecb3769c",
   "metadata": {},
   "outputs": [
    {
     "name": "stdout",
     "output_type": "stream",
     "text": [
      "Input folder = C:\\Users\\ahmar\\OneDrive\\Documents\\GitHub\\Mobile-Multimodal-Lab\\Scripts\\XDF_PROCESSING\\data_raw\n",
      "Output folder = C:\\Users\\ahmar\\OneDrive\\Documents\\GitHub\\Mobile-Multimodal-Lab\\Scripts\\XDF_PROCESSING\\data_processed\n"
     ]
    }
   ],
   "source": [
    "# PATHS\n",
    "experiment_to_process = './data_raw/'  # input folder with the raw XDF files \n",
    "dataprocessfolder = './data_processed/'  # output folder where the extracted data will be saved \n",
    "print(\"Input folder =\", os.path.abspath(experiment_to_process))\n",
    "print(\"Output folder =\", os.path.abspath(dataprocessfolder))\n",
    "\n",
    "\n",
    "#VARIABLES \n",
    "noise_reducelevel = 1.5"
   ]
  },
  {
   "cell_type": "markdown",
   "id": "dac3587c",
   "metadata": {},
   "source": [
    "## 1. Identifying the xdf files in Input Folder or any subfolder "
   ]
  },
  {
   "cell_type": "code",
   "execution_count": 7,
   "id": "a9fd9537",
   "metadata": {},
   "outputs": [
    {
     "name": "stdout",
     "output_type": "stream",
     "text": [
      "We have idenified the following xdf files: ['./data_raw/Pilot_2_Ming.xdf', './data_raw/Pilot_4_Laura.xdf', './data_raw/test_dm03.xdf']\n"
     ]
    }
   ],
   "source": [
    "xdf_files = []  # Initialize an empty list to store paths of XDF files\n",
    "\n",
    "# Traverse through the directory and its subdirectories to find XDF files\n",
    "for root, dirs, files in os.walk(experiment_to_process):  # 1st loop iterating over the results returned by os.walk().\n",
    "    \n",
    "    for file in files:                                    # 2nd loop iterating through each file in the current directory\n",
    "        \n",
    "        if file.endswith(\".xdf\"):                         # checking if the file has and XDF extension \n",
    "            \n",
    "             xdf_files.append(os.path.join(root, file))   # if the file is an XDF file, append its full path to the xdf_files list\n",
    "            \n",
    "print('We have idenified the following xdf files: ' + str(xdf_files))"
   ]
  },
  {
   "cell_type": "markdown",
   "id": "a55f7a3a",
   "metadata": {},
   "source": [
    "## 2. Creating the Main Functions to extract each Data Stream (i.e., Audio, Video, Eye-Tracking, etc.) "
   ]
  },
  {
   "cell_type": "code",
   "execution_count": 23,
   "id": "6408cf74",
   "metadata": {},
   "outputs": [
    {
     "ename": "NameError",
     "evalue": "name 'timeseriestype' is not defined",
     "output_type": "error",
     "traceback": [
      "\u001b[1;31m---------------------------------------------------------------------------\u001b[0m",
      "\u001b[1;31mNameError\u001b[0m                                 Traceback (most recent call last)",
      "Cell \u001b[1;32mIn[23], line 13\u001b[0m\n\u001b[0;32m      2\u001b[0m \u001b[38;5;28;01mdef\u001b[39;00m \u001b[38;5;21mto_audio\u001b[39m(fileloc, timeseries, timeseriestype\u001b[38;5;241m=\u001b[39m\u001b[38;5;28;01mNone\u001b[39;00m, samplerate \u001b[38;5;241m=\u001b[39m \u001b[38;5;241m16000\u001b[39m, channels \u001b[38;5;241m=\u001b[39m \u001b[38;5;241m1\u001b[39m):   \n\u001b[0;32m      4\u001b[0m \u001b[38;5;250m       \u001b[39m\u001b[38;5;124;03m\"\"\"\u001b[39;00m\n\u001b[0;32m      5\u001b[0m \u001b[38;5;124;03m    This function - named \"to_audio\" - writes audio data to a WAV file.\u001b[39;00m\n\u001b[0;32m      6\u001b[0m \u001b[38;5;124;03m    It accepts the following parameters:\u001b[39;00m\n\u001b[1;32m   (...)\u001b[0m\n\u001b[0;32m     10\u001b[0m \u001b[38;5;124;03m    - channels (int, optional): Number of audio channels (mono or stereo). Defaults to 1 (mono)\u001b[39;00m\n\u001b[0;32m     11\u001b[0m \u001b[38;5;124;03m    \"\"\"\u001b[39;00m\n\u001b[1;32m---> 13\u001b[0m \u001b[38;5;28;01mif\u001b[39;00m timeseriestype \u001b[38;5;241m==\u001b[39m \u001b[38;5;124m'\u001b[39m\u001b[38;5;124mMic\u001b[39m\u001b[38;5;124m'\u001b[39m:  \u001b[38;5;66;03m#Condition check that the timeseriestype belongs to the microphone. Tymeseriestype will be defined later from the XDF file. \u001b[39;00m\n\u001b[0;32m     15\u001b[0m     obj \u001b[38;5;241m=\u001b[39m wave\u001b[38;5;241m.\u001b[39mopen(fileloc,\u001b[38;5;124m'\u001b[39m\u001b[38;5;124mw\u001b[39m\u001b[38;5;124m'\u001b[39m)        \u001b[38;5;66;03m# Opens audio file using the wave.open() function write mode ('w'). Assigns data it to the variable obj.\u001b[39;00m\n\u001b[0;32m     16\u001b[0m     obj\u001b[38;5;241m.\u001b[39msetnchannels(channels)          \u001b[38;5;66;03m# Sets the number of channels in the audio file using obj.setnchannels(channels). Deafault 1 channel (mono).\u001b[39;00m\n",
      "\u001b[1;31mNameError\u001b[0m: name 'timeseriestype' is not defined"
     ]
    }
   ],
   "source": [
    "## AUDIO: transforming XDF into numeric waveform (wav files)\n",
    "def to_audio(fileloc, timeseries, samplerate = 16000, channels = 1):   \n",
    "\n",
    "    \"\"\"\n",
    "    This function - named \"to_audio\" - writes audio data to a WAV file.\n",
    "    It accepts the following parameters:\n",
    "    - fileloc (str): Location to save the audio file.\n",
    "    - timeseries (list): Audio data to be written into the file.\n",
    "    - samplerate (int, optional): Sampling rate of the audio data. Defaults to 16000.\n",
    "    - channels (int, optional): Number of audio channels (mono or stereo). Defaults to 1 (mono)\n",
    "    \"\"\"\n",
    "\n",
    "#ERROR \n",
    "if timeseriestype == 'Mic':  #Condition check that the timeseriestype belongs to the microphone. Tymeseriestype will be defined later from the XDF file. \n",
    "        \n",
    "    obj = wave.open(fileloc,'w')        # Opens audio file using the wave.open() function write mode ('w'). Assigns data it to the variable obj.\n",
    "    obj.setnchannels(channels)          # Sets the number of channels in the audio file using obj.setnchannels(channels). Deafault 1 channel (mono).\n",
    "    obj.setsampwidth(2)                 # Sets the sample width in bytes using obj.setsampwidth(2). The value '2' indicates 16-bit audio.\n",
    "    obj.setframerate(float(samplerate)) # sets the frame rate of the audio file using obj.setframerate(float(samplerate)), where samplerate is provided as a parameter.\n",
    "        \n",
    "    for i in timeseries:                      # Loop to iterate over each time-point in the temeseries stream\n",
    "        data = struct.pack('<h', int(i[0]))   # Converts the first value of the timeseries to an integer and packs it into a binary string (struck.pack()) according to the '<h' fromat (i.e., short integer (16 bits) in little-endian byte order)   \n",
    "        obj.writeframesraw( data )            # Writes the packed binary data into an audio file using the wave function writeframesraw() from the wave library \n",
    "    obj.close()                               # Closes the audio file \n",
    "\n",
    "\n",
    "\n",
    "## BALANCE BOARD \n",
    "def to_balanceboard(fileloc, timeseries, samplerate = 500 , channels = 4):  \n",
    "    # something here \n",
    "\n",
    "\n",
    "## EYE TRACKING"
   ]
  },
  {
   "cell_type": "markdown",
   "id": "61a32516",
   "metadata": {},
   "source": [
    "# Main loop that extracts the csv's and sound from the XDF"
   ]
  },
  {
   "cell_type": "code",
   "execution_count": 9,
   "id": "98c8f08c",
   "metadata": {
    "scrolled": true
   },
   "outputs": [
    {
     "name": "stdout",
     "output_type": "stream",
     "text": [
      "working on stream: MyWebcamFrameStream  with a channel count of 1\n",
      " and a sampling rate of 500\n",
      "working on stream: BalanceBoard_stream  with a channel count of 4\n",
      " and a sampling rate of 500\n",
      "working on stream: Mic  with a channel count of 1\n",
      " and a sampling rate of 16000\n"
     ]
    },
    {
     "ename": "NameError",
     "evalue": "name 'noisereducelevel' is not defined",
     "output_type": "error",
     "traceback": [
      "\u001b[1;31m---------------------------------------------------------------------------\u001b[0m",
      "\u001b[1;31mNameError\u001b[0m                                 Traceback (most recent call last)",
      "\u001b[1;32m~\\AppData\\Local\\Temp\\ipykernel_23344\\1891935369.py\u001b[0m in \u001b[0;36m<module>\u001b[1;34m\u001b[0m\n\u001b[0;32m     21\u001b[0m             \u001b[0mrate\u001b[0m\u001b[1;33m,\u001b[0m \u001b[0mdata\u001b[0m \u001b[1;33m=\u001b[0m \u001b[0mwavfile\u001b[0m\u001b[1;33m.\u001b[0m\u001b[0mread\u001b[0m\u001b[1;33m(\u001b[0m\u001b[0mwavloc\u001b[0m\u001b[1;33m)\u001b[0m\u001b[1;33m\u001b[0m\u001b[1;33m\u001b[0m\u001b[0m\n\u001b[0;32m     22\u001b[0m             \u001b[1;31m# perform noise reduction\u001b[0m\u001b[1;33m\u001b[0m\u001b[1;33m\u001b[0m\u001b[0m\n\u001b[1;32m---> 23\u001b[1;33m             \u001b[0mreduced_noise\u001b[0m \u001b[1;33m=\u001b[0m \u001b[0mnr\u001b[0m\u001b[1;33m.\u001b[0m\u001b[0mreduce_noise\u001b[0m\u001b[1;33m(\u001b[0m\u001b[0my\u001b[0m\u001b[1;33m=\u001b[0m\u001b[0mdata\u001b[0m\u001b[1;33m,\u001b[0m \u001b[0msr\u001b[0m\u001b[1;33m=\u001b[0m\u001b[0mrate\u001b[0m\u001b[1;33m,\u001b[0m \u001b[0mn_std_thresh_stationary\u001b[0m\u001b[1;33m=\u001b[0m\u001b[0mnoisereducelevel\u001b[0m\u001b[1;33m,\u001b[0m\u001b[0mstationary\u001b[0m\u001b[1;33m=\u001b[0m\u001b[1;32mTrue\u001b[0m\u001b[1;33m)\u001b[0m\u001b[1;33m\u001b[0m\u001b[1;33m\u001b[0m\u001b[0m\n\u001b[0m\u001b[0;32m     24\u001b[0m             \u001b[0mwavloc2\u001b[0m \u001b[1;33m=\u001b[0m \u001b[0mdataprocessfolder\u001b[0m\u001b[1;33m+\u001b[0m\u001b[0mos\u001b[0m\u001b[1;33m.\u001b[0m\u001b[0mpath\u001b[0m\u001b[1;33m.\u001b[0m\u001b[0mbasename\u001b[0m\u001b[1;33m(\u001b[0m\u001b[0mxdf_file\u001b[0m\u001b[1;33m)\u001b[0m\u001b[1;33m[\u001b[0m\u001b[1;33m:\u001b[0m\u001b[1;33m-\u001b[0m\u001b[1;36m4\u001b[0m\u001b[1;33m]\u001b[0m \u001b[1;33m+\u001b[0m \u001b[1;34m'_denoised.wav'\u001b[0m\u001b[1;33m\u001b[0m\u001b[1;33m\u001b[0m\u001b[0m\n\u001b[0;32m     25\u001b[0m             \u001b[0mwavfile\u001b[0m\u001b[1;33m.\u001b[0m\u001b[0mwrite\u001b[0m\u001b[1;33m(\u001b[0m\u001b[0mwavloc2\u001b[0m\u001b[1;33m,\u001b[0m \u001b[0mrate\u001b[0m\u001b[1;33m,\u001b[0m \u001b[0mreduced_noise\u001b[0m\u001b[1;33m)\u001b[0m\u001b[1;33m\u001b[0m\u001b[1;33m\u001b[0m\u001b[0m\n",
      "\u001b[1;31mNameError\u001b[0m: name 'noisereducelevel' is not defined"
     ]
    }
   ],
   "source": [
    "\n",
    "for xdf_file in xdf_files:               # Iterate over each path in the list \"xdf_files\". \n",
    "    streams, header = pyxdf.load_xdf(xdf_file)    # Loading steams and header information from each XDF file usign the load_xdf function from the pyxdf library. \n",
    "    fnam = os.path.basename(xdf_file)[:-4]        # Extract the file name from the path and assings it to fnam, whilst removing the '.xdf' extension (i.e., the last 4 characters in the string)\n",
    "   \n",
    "    for stream in streams:                        # Iterate over each steam in the loaded steam for each XDF file .\n",
    "        timeseriestype = stream['info']['name'][0]                       # Extracts information (info and 1st name) for each steams (dictionary structure) and assigns it to timeseriestype (e.g., Mic). \n",
    "        samplerate = round(float(stream['info']['nominal_srate'][0]))    # Extracts the rounded sampling rate (nominal_srate) and assings it to samplerate \n",
    "        channelcount = stream['info']['channel_count'][0]                # Extracts the number of channel for each steams and assigns it to channelcount \n",
    "        \n",
    "        print('working on stream: ' + timeseriestype + '  with a channel count of ' + str(channelcount) +'\\n and a sampling rate of ' + str(samplerate))\n",
    "\n",
    "        \n",
    "       #in the xdf loop over the streams and save it as csv if not yet exists\n",
    "        timevec = stream['time_stamps']    #LSL TIMESTAMPS!\n",
    "        timeseries = stream['time_series'] # data\n",
    "        matrix_aux = np.vstack([np.transpose(timevec),np.transpose(timeseries)])\n",
    "        matrix     = np.transpose(matrix_aux)\n",
    "        df_lab = pd.DataFrame(matrix)\n",
    "        df_lab.to_csv(dataprocessfolder+fnam+'_'+timeseriestype+'_nominal_srate'+str(samplerate)+'.csv',index=False)\n",
    "       \n",
    "        \n",
    "        if timeseriestype == 'Mic':\n",
    "            wavloc = dataprocessfolder+fnam+ '.wav'\n",
    "            to_audio(wavloc, timeseries)\n",
    "            # load data\n",
    "            rate, data = wavfile.read(wavloc)\n",
    "            # perform noise reduction\n",
    "            reduced_noise = nr.reduce_noise(y=data, sr=rate, n_std_thresh_stationary=noisereducelevel,stationary=True)\n",
    "            wavloc2 = dataprocessfolder+os.path.basename(xdf_file)[:-4] + '_denoised.wav'\n",
    "            wavfile.write(wavloc2, rate, reduced_noise)\n",
    "            \n",
    "print('done, you can now look into your folder: ' + dataprocessfolder)"
   ]
  },
  {
   "cell_type": "code",
   "execution_count": null,
   "id": "256e1792",
   "metadata": {},
   "outputs": [],
   "source": [
    "# TODO plot some data \n",
    "# use matplotlib or plotly to show a portion of the timeseries of the balanceboard\n"
   ]
  },
  {
   "cell_type": "code",
   "execution_count": null,
   "id": "5bb59e07",
   "metadata": {},
   "outputs": [],
   "source": []
  }
 ],
 "metadata": {
  "kernelspec": {
   "display_name": "Python 3 (ipykernel)",
   "language": "python",
   "name": "python3"
  },
  "language_info": {
   "codemirror_mode": {
    "name": "ipython",
    "version": 3
   },
   "file_extension": ".py",
   "mimetype": "text/x-python",
   "name": "python",
   "nbconvert_exporter": "python",
   "pygments_lexer": "ipython3",
   "version": "3.12.2"
  }
 },
 "nbformat": 4,
 "nbformat_minor": 5
}
