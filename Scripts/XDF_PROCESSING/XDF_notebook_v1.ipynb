{
 "cells": [
  {
   "cell_type": "markdown",
   "id": "75a605ec",
   "metadata": {},
   "source": [
    "# Donders MML: XDF Processing\n",
    "- we explain what we're doing. "
   ]
  },
  {
   "cell_type": "code",
   "execution_count": null,
   "id": "bb7d8db3",
   "metadata": {},
   "outputs": [],
   "source": [
    "Loading "
   ]
  },
  {
   "cell_type": "code",
   "execution_count": null,
   "id": "7f3a586b",
   "metadata": {
    "collapsed": true
   },
   "outputs": [],
   "source": []
  },
  {
   "cell_type": "code",
   "execution_count": null,
   "id": "c834ad87",
   "metadata": {},
   "outputs": [],
   "source": [
    "import os  # comment everything \n",
    "import pyxdf\n",
    "import glob\n",
    "import pandas as pd\n",
    "import numpy as np\n",
    "import wave, struct, math, random\n",
    "from scipy.io import wavfile\n",
    "import noisereduce as nr\n",
    "import json\n",
    "import cv2\n",
    "from moviepy.video.io.ffmpeg_tools import ffmpeg_extract_subclip #this is the video clipping function\n",
    "from moviepy.video.io.VideoFileClip import VideoFileClip #alternative for snipping video\n",
    "from moviepy.editor import VideoFileClip, AudioFileClip, CompositeAudioClip\n",
    "\n",
    "print(test) #as terminal\n",
    "#identify xdf files in data folder\n",
    "    #Note this data folder is external to the GITHUB page, because they are enormous files.\n",
    "    #So just make sure you have a data folder called VENI_data_local"
   ]
  },
  {
   "cell_type": "code",
   "execution_count": null,
   "id": "ef926313",
   "metadata": {},
   "outputs": [],
   "source": [
    "#identify xdf files in data folder or any subfolder\n",
    "xdf_files = []\n",
    "for root, dirs, files in os.walk(experiment_to_process):\n",
    "    for file in files:\n",
    "        if file.endswith(\".xdf\"):\n",
    "             xdf_files.append(os.path.join(root, file))\n",
    "\n",
    "#audio write\n",
    "def to_audio(fileloc, timeseries, samplerate = 16000, channels = 1):\n",
    "    if timeseriestype == 'Mic': \n",
    "        obj = wave.open(fileloc,'w')\n",
    "        obj.setnchannels(channels) # mono\n",
    "        obj.setsampwidth(2)\n",
    "        obj.setframerate(float(samplerate))\n",
    "        for i in timeseries:\n",
    "            data = struct.pack('<h', int(i[0]))\n",
    "            obj.writeframesraw( data )\n",
    "        obj.close()\n"
   ]
  }
 ],
 "metadata": {
  "kernelspec": {
   "display_name": "Python [conda env:multimodallab]",
   "language": "python",
   "name": "conda-env-multimodallab-py"
  },
  "language_info": {
   "codemirror_mode": {
    "name": "ipython",
    "version": 3
   },
   "file_extension": ".py",
   "mimetype": "text/x-python",
   "name": "python",
   "nbconvert_exporter": "python",
   "pygments_lexer": "ipython3",
   "version": "3.12.2"
  }
 },
 "nbformat": 4,
 "nbformat_minor": 5
}
