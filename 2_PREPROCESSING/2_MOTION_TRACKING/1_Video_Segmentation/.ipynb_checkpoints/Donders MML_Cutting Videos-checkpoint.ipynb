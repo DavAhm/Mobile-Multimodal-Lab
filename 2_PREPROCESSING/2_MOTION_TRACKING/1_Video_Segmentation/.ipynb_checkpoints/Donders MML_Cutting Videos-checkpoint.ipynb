{
 "cells": [
  {
   "cell_type": "markdown",
   "id": "0ef3895e-54b4-4281-a860-402dd6a015b8",
   "metadata": {},
   "source": [
    "## 0. Importing Necessary Packages\n"
   ]
  },
  {
   "cell_type": "code",
   "execution_count": 1,
   "id": "85430158-afc2-46de-919d-f44825208426",
   "metadata": {},
   "outputs": [
    {
     "name": "stdout",
     "output_type": "stream",
     "text": [
      "Everything was imported succesfully\n"
     ]
    }
   ],
   "source": [
    "import os                                 # Importing the os module which provides functions for interacting with the operating system\n",
    "from moviepy.editor import (              # Importing functions from the MoviePy library, which is used for video editing.\n",
    "                VideoFileClip,                # VideoFileClip allows you to load a video file and manipulate it as a clip object.\n",
    "                concatenate_videoclips)       # concatenate_videoclips allows you to concatenate multiple video clips into one video.\n",
    "import cv2                                # Importing cv2 module from OpenCV library, used for computer vision tasks (provides various functions to process images and videos).\n",
    "import subprocess                         # Importing subprocess, commonly used for running external commands or scripts from within a Python script.\n",
    "import tkinter                            # Importning tkinter, whch crates graphical user interfaces (GUIs) and provides a variety of widgets and controls to build desktop applications.\n",
    "from tkinter import filedialog                # importing filedialog from tkinter, is a module in tkinter, which allows the user to select files or directories through a dialog window.\n",
    "#ffmpegf\n",
    "\n",
    "print(\"Everything was imported succesfully\") #as terminal"
   ]
  },
  {
   "cell_type": "markdown",
   "id": "d9d7ce55-8a2e-4225-a0ba-42a9b13a0bc3",
   "metadata": {},
   "source": [
    "## 1. Defining the Relevant Directories, Variables & Functions"
   ]
  },
  {
   "cell_type": "code",
   "execution_count": 8,
   "id": "10ede56c-ebdb-470d-bc52-9caaacb2b735",
   "metadata": {},
   "outputs": [
    {
     "name": "stdout",
     "output_type": "stream",
     "text": [
      "Input folder = C:\\Users\\ahmar\\OneDrive\\Documents\\GitHub\\Mobile-Multimodal-Lab\\2_PREPROCESSING\\2_MOTION_TRACKING\\1_Video_Segmentation\\videos_raw\n",
      "Output folder = C:\\Users\\ahmar\\OneDrive\\Documents\\GitHub\\Mobile-Multimodal-Lab\\2_PREPROCESSING\\2_MOTION_TRACKING\\1_Video_Segmentation\\videos_split\n",
      "Function split_camera_views created successfully\n"
     ]
    }
   ],
   "source": [
    "# ------------ DIRECTORIES -----------------------------\n",
    "input_folder  = './videos_raw/'   # input folder with the raw video files (relative path) \n",
    "output_folder = './videos_split/' # output folder where the split videos will be saved (relative path) \n",
    "\n",
    "print(\"Input folder =\", os.path.abspath(input_folder))\n",
    "print(\"Output folder =\", os.path.abspath(output_folder))\n",
    "\n",
    "\n",
    "# ----------- VARIABLES --------------------------\n",
    "video_extension = '.avi'  # Video format extension avi. Change as needed (e.g., .mp4)\n",
    "codec_extensio  = 'XVID'  # Codec for avi. Consider other codecs for different extensions:\n",
    "                            # '.mp4': 'libx264',\n",
    "                            # '.avi': 'libxvid',\n",
    "                            # '.mov': 'libx264',\n",
    "                            # '.mkv': 'libx264',\n",
    "                            # '.flv': 'flv',\n",
    "\n",
    "num_cameras = 3          # Number of cameras for each \"raw video\". Change accordingly. \n",
    "\n",
    "\n",
    "# ----------- FUNCTIONS -------------------------\n",
    "import cv2\n",
    "\n",
    "def split_camera_views(input_file, output_files, num_cameras=3, codec_extension='mp4v'):\n",
    "    \"\"\"\n",
    "    This split_camera_views function takes an input video file and splits it into three separate video files, \n",
    "    each corresponding to a different camera view. It assumes that the input video is composed \n",
    "    of three side-by-side camera views. The function outputs three video files, each containing \n",
    "    one of the camera views.\n",
    "\n",
    "    Parameters:\n",
    "    input_file (str): The path to the input video file.\n",
    "    output_files (list of str): A list containing the paths to the output video files for each camera view.\n",
    "    num_cameras (int): The number of camera views in the input video. Default is 3.\n",
    "    codec_extension (str): The codec extension to be used for the output videos. Default is 'mp4v'.\n",
    "    \"\"\"\n",
    "    \n",
    "    cap = cv2.VideoCapture(input_file)  # Open the video file\n",
    "\n",
    "    # Extract relevant information from the video\n",
    "    width_per_camera = int(cap.get(cv2.CAP_PROP_FRAME_WIDTH)) // num_cameras  # Calculate width per camera\n",
    "    height = int(cap.get(cv2.CAP_PROP_FRAME_HEIGHT))  # Get the height of the video (same for all cameras)\n",
    "    frame_rate = int(cap.get(cv2.CAP_PROP_FPS))  # Get the frame rate of the video (same for all cameras)\n",
    "\n",
    "    # Create VideoWriters for each camera\n",
    "    fourcc = cv2.VideoWriter_fourcc(*codec_extension)  # Define the codec for the output videos\n",
    "    out_cam1 = cv2.VideoWriter(output_files[0], fourcc, frame_rate, (width_per_camera, height))  # Create VideoWriter for the first camera\n",
    "    out_cam2 = cv2.VideoWriter(output_files[1], fourcc, frame_rate, (width_per_camera, height))  # Create VideoWriter for the second camera\n",
    "    out_cam3 = cv2.VideoWriter(output_files[2], fourcc, frame_rate, (width_per_camera, height))  # Create VideoWriter for the third camera\n",
    "\n",
    "    while True:  # Loop to read frames from the video\n",
    "        ret, frame = cap.read()  # Read a frame from the video\n",
    "\n",
    "        # Check if the frame is None (end of video)\n",
    "        if frame is None:  # If no frame is returned, break the loop\n",
    "            break\n",
    "\n",
    "        # Break the frame into three parts\n",
    "        camera1_frame = frame[:, :width_per_camera, :]  # Extract the first camera view\n",
    "        camera2_frame = frame[:, width_per_camera:2*width_per_camera, :]  # Extract the second camera view\n",
    "        camera3_frame = frame[:, 2*width_per_camera:, :]  # Extract the third camera view\n",
    "\n",
    "        # Display each camera view separately (optional)\n",
    "        cv2.imshow('Camera 1', camera1_frame)  # Display the first camera view\n",
    "        cv2.imshow('Camera 2', camera2_frame)  # Display the second camera view\n",
    "        cv2.imshow('Camera 3', camera3_frame)  # Display the third camera view\n",
    "\n",
    "        # Write frames to video files\n",
    "        out_cam1.write(camera1_frame)  # Write the first camera view to its file\n",
    "        out_cam2.write(camera2_frame)  # Write the second camera view to its file\n",
    "        out_cam3.write(camera3_frame)  # Write the third camera view to its file\n",
    "\n",
    "        if cv2.waitKey(1) == 27:  # Break the loop if 'Esc' key is pressed\n",
    "            break\n",
    "\n",
    "    # Release VideoWriters and VideoCapture\n",
    "    out_cam1.release()  # Release the VideoWriter for the first camera\n",
    "    out_cam2.release()  # Release the VideoWriter for the second camera\n",
    "    out_cam3.release()  # Release the VideoWriter for the third camera\n",
    "    cap.release()  # Release the VideoCapture\n",
    "    cv2.destroyAllWindows()  # Close all OpenCV windows\n",
    "\n",
    "print('Function split_camera_views created successfully')\n",
    "\n"
   ]
  },
  {
   "cell_type": "markdown",
   "id": "d9eb8346-b31c-46ee-b026-e5d80182100c",
   "metadata": {},
   "source": [
    "## 2. Identifying Relevant Videos in the input_folder "
   ]
  },
  {
   "cell_type": "code",
   "execution_count": 4,
   "id": "9c83f58f-6d52-4895-ad23-f59980636a53",
   "metadata": {},
   "outputs": [
    {
     "name": "stdout",
     "output_type": "stream",
     "text": [
      "We have idenified the following vides: ['./videos_raw/calibration_oneover250s_high_quality_2024-04-23_output_compr.avi', './videos_raw/oneover250s_highquality_test_2024-04-23_output_compr.avi', './videos_raw/oneover60_lowquality_test_2024-04-23_output_compr.avi']\n"
     ]
    }
   ],
   "source": [
    "video_files = [ ]    # Initialize an empty list to store paths of video files\n",
    "\n",
    "# Traverse through the directory and its subdirectories to find XDF files\n",
    "for root, dirs, videos in os.walk(input_folder):  # 1st loop iterating over the results returned by os.walk().\n",
    "    \n",
    "    for video in videos:                               # 2nd loop iterating through each file in the current directory\n",
    "        \n",
    "        if video.endswith(video_extension):            # checking if the video has the specified video_extension (e.g., '.avi') \n",
    "            \n",
    "             video_files.append(os.path.join(root, video))   # if the video is an .avi file, append its full path to the  list\n",
    "            \n",
    "print('We have idenified the following vides: ' + str(video_files))"
   ]
  },
  {
   "cell_type": "markdown",
   "id": "00922a46-dcc5-449c-81ac-7d672c9b723f",
   "metadata": {},
   "source": [
    "## 2a. Alternatively, the user can select their own Videos from any directory. "
   ]
  },
  {
   "cell_type": "code",
   "execution_count": 9,
   "id": "a5efcca4-8236-4ffe-a02c-e4ea33710d5c",
   "metadata": {},
   "outputs": [
    {
     "name": "stdout",
     "output_type": "stream",
     "text": [
      "You have selected the following Videos: ['C:/Users/ahmar/OneDrive/Documents/GitHub/Mobile-Multimodal-Lab/2_PREPROCESSING/2_MOTION_TRACKING/1_Video_Segmentation/videos_raw/calibration_oneover250s_high_quality_2024-04-23_output_compr.avi']\n"
     ]
    }
   ],
   "source": [
    "root = tkinter.Tk()\n",
    "root.attributes('-topmost',True)\n",
    "root.iconify()\n",
    "\n",
    "video_extension = '.avi'  #Video extension. Change as needed\n",
    "\n",
    "video_files = filedialog.askopenfilename(title=\"Select one or multiple Videos in the format\" + str(video_extension), filetypes=[(\"Video Files\", str(video_extension))], multiple = 'True')\n",
    "\n",
    "root.destroy()\n",
    "\n",
    "# Convert the tuple returned by askopenfilenames() to a list\n",
    "video_files = list(video_files)\n",
    "\n",
    "print('You have selected the following Videos: ' + str(video_files))"
   ]
  },
  {
   "cell_type": "markdown",
   "id": "0398cf5e-2b5c-4286-bfd8-f427906ce48a",
   "metadata": {},
   "source": [
    "## 3. Cutting Videos (Loop)"
   ]
  },
  {
   "cell_type": "code",
   "execution_count": 11,
   "id": "fd1238f5-afb0-425a-aeed-8299ecb7d67e",
   "metadata": {},
   "outputs": [
    {
     "name": "stdout",
     "output_type": "stream",
     "text": [
      "working on file: C:/Users/ahmar/OneDrive/Documents/GitHub/Mobile-Multimodal-Lab/2_PREPROCESSING/2_MOTION_TRACKING/1_Video_Segmentation/videos_raw/calibration_oneover250s_high_quality_2024-04-23_output_compr.avi\n"
     ]
    }
   ],
   "source": [
    "# loop over files in folder and split them\n",
    "for file in video_files:\n",
    "    \n",
    "    print(\"working on file: \"+file)\n",
    "    \n",
    "    # Get the name of the file without the extension\n",
    "    filename = os.path.splitext(os.path.basename(file))[0]\n",
    "    \n",
    "    # trialID = filename.split(\"_\")[0]\n",
    "    \n",
    "    # # create an empty folder with name of the sessionIndex\n",
    "    # os.makedirs(os.path.join(outputfolder, trialID))\n",
    "    # # inside this folder, create empty folder 'raw-2d'\n",
    "    # os.makedirs(os.path.join(outputfolder, trialID, 'raw-2d'))\n",
    "\n",
    "    # # create output file names, and save the three videos into the new created folder raw-2d within the sessionIndex folder\n",
    "    # output_files = [\n",
    "    #     os.path.join(outputfolder, trialID, 'raw-2d', filename + '_cam1.avi'),\n",
    "    #     os.path.join(outputfolder, trialID, 'raw-2d', filename + '_cam2.avi'),\n",
    "    #     os.path.join(outputfolder, trialID, 'raw-2d', filename + '_cam3.avi')\n",
    "    # ]\n",
    "\n",
    "        # create output file names, and save the three videos into the new created folder raw-2d within the sessionIndex folder\n",
    "    output_files = [\n",
    "        os.path.join(output_folder, 'raw-2d', filename + '_cam1.avi'),\n",
    "        os.path.join(output_folder, 'raw-2d', filename + '_cam2.avi'),\n",
    "        os.path.join(output_folder, 'raw-2d', filename + '_cam3.avi')\n",
    "    ]\n",
    "\n",
    "\n",
    "\n",
    "    # Split the camera views\n",
    "    split_camera_views(file, output_files)"
   ]
  },
  {
   "cell_type": "code",
   "execution_count": null,
   "id": "77ab079b-14c1-472f-80d9-475cb387e138",
   "metadata": {},
   "outputs": [],
   "source": []
  }
 ],
 "metadata": {
  "kernelspec": {
   "display_name": "Python 3 (ipykernel)",
   "language": "python",
   "name": "python3"
  },
  "language_info": {
   "codemirror_mode": {
    "name": "ipython",
    "version": 3
   },
   "file_extension": ".py",
   "mimetype": "text/x-python",
   "name": "python",
   "nbconvert_exporter": "python",
   "pygments_lexer": "ipython3",
   "version": "3.12.2"
  }
 },
 "nbformat": 4,
 "nbformat_minor": 5
}
