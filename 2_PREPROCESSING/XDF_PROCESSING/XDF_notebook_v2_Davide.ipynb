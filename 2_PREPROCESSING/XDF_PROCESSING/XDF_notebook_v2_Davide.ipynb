{
 "cells": [
  {
   "cell_type": "markdown",
   "id": "75a605ec",
   "metadata": {},
   "source": [
    "# Donders MML: XDF Processing\n",
    "- we explain what we're doing.\n",
    "  "
   ]
  },
  {
   "cell_type": "code",
   "execution_count": null,
   "id": "bb7d8db3",
   "metadata": {},
   "outputs": [],
   "source": [
    "Loading "
   ]
  },
  {
   "cell_type": "code",
   "execution_count": 2,
   "id": "c834ad87",
   "metadata": {},
   "outputs": [
    {
     "name": "stdout",
     "output_type": "stream",
     "text": [
      "Everything was imported succesfully\n"
     ]
    }
   ],
   "source": [
    "# 0. FIRST IMPORT ALL THE NECESSARY PACKAGES TO EXTRACT AND PROCESS XDF FILES \n",
    "\n",
    "import os  # Importing the os module which provides functions for interacting with the operating system\n",
    "\n",
    "import pyxdf  # Importing pyxdf, a Python library for reading XDF files\n",
    "\n",
    "import glob  # Importing the glob module which helps in finding files/directories with specific patterns\n",
    "\n",
    "import pandas as pd  # Importing pandas library (abbreviated as pd), which is used for data manipulation and analysis\n",
    "\n",
    "import numpy as np  # Importing numpy library (abbreviated as np), which is used for numerical computations\n",
    "\n",
    "import wave  # Importing wave module for reading and writing WAV files (usually audio files) \n",
    "\n",
    "import struct  # Importing struct module which provides functions to convert between Python values and C structs\n",
    "\n",
    "import math  # Importing math module which provides mathematical functions\n",
    "\n",
    "import random  # Importing random module for generating random numbers\n",
    "\n",
    "from scipy.io import wavfile  # Importing wavfile module from scipy.io (a library built on numpy), for reading and writing WAV files\n",
    "\n",
    "import noisereduce as nr  # Importing noisereduce module for noise reduction in audio signals\n",
    "\n",
    "import json  # Importing json module for working with JSON data\n",
    "\n",
    "import cv2  # Importing OpenCV library for computer vision tasks\n",
    "\n",
    "from moviepy.editor import (  # Importing various classes and functions from moviepy.editor module\n",
    "                            VideoFileClip,  # Class for working with video files\n",
    "                            AudioFileClip,  # Class for working with audio files\n",
    "                            CompositeAudioClip)  # Class for composing audio clip\n",
    "\n",
    "print(\"Everything was imported succesfully\") #as terminal"
   ]
  },
  {
   "cell_type": "code",
   "execution_count": 8,
   "id": "ef926313",
   "metadata": {},
   "outputs": [
    {
     "name": "stdout",
     "output_type": "stream",
     "text": [
      "the following xdf files were found ['./data_raw/test_dm03.xdf']\n"
     ]
    }
   ],
   "source": [
    "#1. IDENTIFY ANY XDF FILES IN ANY DATA (SUB)FOLDER.\n",
    "    #Note this data folder is external to the GITHUB page, because they are enormous files.\n",
    "    #So just make sure you have a data folder called VENI_data_local\n",
    "\n",
    "experiment_to_process = './data_raw/'\n",
    "dataprocessfolder = './data_processed/'\n",
    "noise_reducelevel = 1.5\n",
    "\n",
    "xdf_files = [] ## Define an empty list to store XDF files\n",
    "\n",
    "for root, dirs, files in os.walk(experiment_to_process): # Create a loop that iterates over the results returned by os.walk().\n",
    "                                    #It iterates through each directory in the directory tree by walking the tree either top-down or bottom-up.\n",
    "\n",
    "    for file in files:\n",
    "        if file.endswith(\".xdf\"):\n",
    "             xdf_files.append(os.path.join(root, file))\n",
    "\n",
    "print(\"the following xdf files were found\", \n",
    "      xdf_files)\n",
    "\n",
    "\n",
    "#audio write\n",
    "def to_audio(fileloc, timeseries, samplerate = 16000, channels = 1):\n",
    "    if timeseriestype == 'Mic': \n",
    "        obj = wave.open(fileloc,'w')\n",
    "        obj.setnchannels(channels) # mono\n",
    "        obj.setsampwidth(2)\n",
    "        obj.setframerate(float(samplerate))\n",
    "        for i in timeseries:\n",
    "            data = struct.pack('<h', int(i[0]))\n",
    "            obj.writeframesraw( data )\n",
    "        obj.close()\n",
    "\n",
    "def to_audio(fileloc, timeseries, samplerate = 500, channels = 4):\n",
    "    if timeseriestype == 'BalanceBoard': \n",
    "        obj = wave.open(fileloc,'w')\n",
    "        obj.setnchannels(channels) # mono\n",
    "        obj.setsampwidth(2)\n",
    "        obj.setframerate(float(samplerate))\n",
    "        for i in timeseries:\n",
    "            data = struct.pack('<h', int(i[0]))\n",
    "            obj.writeframesraw( data )\n",
    "        obj.close()\n",
    "\n"
   ]
  }
 ],
 "metadata": {
  "kernelspec": {
   "display_name": "Python 3 (ipykernel)",
   "language": "python",
   "name": "python3"
  },
  "language_info": {
   "codemirror_mode": {
    "name": "ipython",
    "version": 3
   },
   "file_extension": ".py",
   "mimetype": "text/x-python",
   "name": "python",
   "nbconvert_exporter": "python",
   "pygments_lexer": "ipython3",
   "version": "3.12.2"
  }
 },
 "nbformat": 4,
 "nbformat_minor": 5
}
