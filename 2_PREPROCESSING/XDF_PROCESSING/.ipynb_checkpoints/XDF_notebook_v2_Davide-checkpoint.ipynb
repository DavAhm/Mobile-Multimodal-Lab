{
 "cells": [
  {
   "cell_type": "markdown",
   "id": "75a605ec",
   "metadata": {},
   "source": [
    "# Donders MML: XDF Processing\n",
    "- we explain what we're doing. "
   ]
  },
  {
   "cell_type": "code",
   "execution_count": null,
   "id": "bb7d8db3",
   "metadata": {},
   "outputs": [],
   "source": [
    "Loading "
   ]
  },
  {
   "cell_type": "code",
   "execution_count": 1,
   "id": "c834ad87",
   "metadata": {},
   "outputs": [
    {
     "ename": "ModuleNotFoundError",
     "evalue": "No module named 'cv2'",
     "output_type": "error",
     "traceback": [
      "\u001b[1;31m---------------------------------------------------------------------------\u001b[0m",
      "\u001b[1;31mModuleNotFoundError\u001b[0m                       Traceback (most recent call last)",
      "Cell \u001b[1;32mIn[1], line 27\u001b[0m\n\u001b[0;32m     23\u001b[0m \u001b[38;5;28;01mimport\u001b[39;00m \u001b[38;5;21;01mnoisereduce\u001b[39;00m \u001b[38;5;28;01mas\u001b[39;00m \u001b[38;5;21;01mnr\u001b[39;00m  \u001b[38;5;66;03m# Importing noisereduce module for noise reduction in audio signals\u001b[39;00m\n\u001b[0;32m     25\u001b[0m \u001b[38;5;28;01mimport\u001b[39;00m \u001b[38;5;21;01mjson\u001b[39;00m  \u001b[38;5;66;03m# Importing json module for working with JSON data\u001b[39;00m\n\u001b[1;32m---> 27\u001b[0m \u001b[38;5;28;01mimport\u001b[39;00m \u001b[38;5;21;01mcv2\u001b[39;00m  \u001b[38;5;66;03m# Importing OpenCV library for computer vision tasks\u001b[39;00m\n\u001b[0;32m     29\u001b[0m \u001b[38;5;28;01mfrom\u001b[39;00m \u001b[38;5;21;01mmoviepy\u001b[39;00m\u001b[38;5;21;01m.\u001b[39;00m\u001b[38;5;21;01meditor\u001b[39;00m \u001b[38;5;28;01mimport\u001b[39;00m (  \u001b[38;5;66;03m# Importing various classes and functions from moviepy.editor module\u001b[39;00m\n\u001b[0;32m     30\u001b[0m                             VideoFileClip,  \u001b[38;5;66;03m# Class for working with video files\u001b[39;00m\n\u001b[0;32m     31\u001b[0m                             AudioFileClip,  \u001b[38;5;66;03m# Class for working with audio files\u001b[39;00m\n\u001b[0;32m     32\u001b[0m                             CompositeAudioClip)  \u001b[38;5;66;03m# Class for composing audio clip\u001b[39;00m\n\u001b[0;32m     34\u001b[0m \u001b[38;5;28mprint\u001b[39m(test)\n",
      "\u001b[1;31mModuleNotFoundError\u001b[0m: No module named 'cv2'"
     ]
    }
   ],
   "source": [
    "# 0. FIRST IMPORT ALL THE NECESSARY PACKAGES TO EXTRACT AND PROCESS XDF FILES \n",
    "\n",
    "import os  # Importing the os module which provides functions for interacting with the operating system\n",
    "\n",
    "import pyxdf  # Importing pyxdf, a Python library for reading XDF files\n",
    "\n",
    "import glob  # Importing the glob module which helps in finding files/directories with specific patterns\n",
    "\n",
    "import pandas as pd  # Importing pandas library (abbreviated as pd), which is used for data manipulation and analysis\n",
    "\n",
    "import numpy as np  # Importing numpy library (abbreviated as np), which is used for numerical computations\n",
    "\n",
    "import wave  # Importing wave module for reading and writing WAV files (usually audio files) \n",
    "\n",
    "import struct  # Importing struct module which provides functions to convert between Python values and C structs\n",
    "\n",
    "import math  # Importing math module which provides mathematical functions\n",
    "\n",
    "import random  # Importing random module for generating random numbers\n",
    "\n",
    "from scipy.io import wavfile  # Importing wavfile module from scipy.io (a library built on numpy), for reading and writing WAV files\n",
    "\n",
    "import noisereduce as nr  # Importing noisereduce module for noise reduction in audio signals\n",
    "\n",
    "import json  # Importing json module for working with JSON data\n",
    "\n",
    "import cv2  # Importing OpenCV library for computer vision tasks\n",
    "\n",
    "from moviepy.editor import (  # Importing various classes and functions from moviepy.editor module\n",
    "                            VideoFileClip,  # Class for working with video files\n",
    "                            AudioFileClip,  # Class for working with audio files\n",
    "                            CompositeAudioClip)  # Class for composing audio clip\n",
    "\n",
    "print(test) #as terminal"
   ]
  },
  {
   "cell_type": "code",
   "execution_count": null,
   "id": "ef926313",
   "metadata": {},
   "outputs": [],
   "source": [
    "#identify xdf files in data folder or any subfolder\n",
    "#identify xdf files in data folder\n",
    "    #Note this data folder is external to the GITHUB page, because they are enormous files.\n",
    "    #So just make sure you have a data folder called VENI_data_local\n",
    "xdf_files = []\n",
    "for root, dirs, files in os.walk(experiment_to_process):\n",
    "    for file in files:\n",
    "        if file.endswith(\".xdf\"):\n",
    "             xdf_files.append(os.path.join(root, file))\n",
    "\n",
    "#audio write\n",
    "def to_audio(fileloc, timeseries, samplerate = 16000, channels = 1):\n",
    "    if timeseriestype == 'Mic': \n",
    "        obj = wave.open(fileloc,'w')\n",
    "        obj.setnchannels(channels) # mono\n",
    "        obj.setsampwidth(2)\n",
    "        obj.setframerate(float(samplerate))\n",
    "        for i in timeseries:\n",
    "            data = struct.pack('<h', int(i[0]))\n",
    "            obj.writeframesraw( data )\n",
    "        obj.close()\n"
   ]
  }
 ],
 "metadata": {
  "kernelspec": {
   "display_name": "Python 3 (ipykernel)",
   "language": "python",
   "name": "python3"
  },
  "language_info": {
   "codemirror_mode": {
    "name": "ipython",
    "version": 3
   },
   "file_extension": ".py",
   "mimetype": "text/x-python",
   "name": "python",
   "nbconvert_exporter": "python",
   "pygments_lexer": "ipython3",
   "version": "3.12.2"
  }
 },
 "nbformat": 4,
 "nbformat_minor": 5
}
